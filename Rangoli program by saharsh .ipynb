{
 "cells": [
  {
   "cell_type": "code",
   "execution_count": null,
   "id": "ee9cf927",
   "metadata": {},
   "outputs": [],
   "source": [
    "a = \"Kollurusaharshwantstomeetemmawatson\"\n",
    "def print_rangoli(size):\n",
    "    \n",
    "    lines = []\n",
    "    for row in range(size):\n",
    "        print_ = \"-\".join(a[row:size])\n",
    "        lines.append(print_[::-1] + print_[1:])\n",
    "    width = len(lines[0])\n",
    "    \n",
    "    for row in range(size-1, 0, -1):\n",
    "        print(lines[row].center(width, '-'))\n",
    "    \n",
    "    for row in range(size):\n",
    "        print(lines[row].center(width, '-'))\n",
    " \n",
    "if __name__ == '__main__':\n",
    "    n = int(input())\n",
    "    print_rangoli(n)"
   ]
  },
  {
   "cell_type": "code",
   "execution_count": null,
   "id": "be2b5573",
   "metadata": {},
   "outputs": [],
   "source": []
  }
 ],
 "metadata": {
  "kernelspec": {
   "display_name": "Python 3 (ipykernel)",
   "language": "python",
   "name": "python3"
  },
  "language_info": {
   "codemirror_mode": {
    "name": "ipython",
    "version": 3
   },
   "file_extension": ".py",
   "mimetype": "text/x-python",
   "name": "python",
   "nbconvert_exporter": "python",
   "pygments_lexer": "ipython3",
   "version": "3.9.13"
  }
 },
 "nbformat": 4,
 "nbformat_minor": 5
}
